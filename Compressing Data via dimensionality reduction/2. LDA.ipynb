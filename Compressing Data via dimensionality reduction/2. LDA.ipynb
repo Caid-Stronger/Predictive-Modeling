{
 "cells": [
  {
   "cell_type": "code",
   "execution_count": 1,
   "id": "4d659dd4-5dfc-4570-bbac-f4bd7fb6b419",
   "metadata": {},
   "outputs": [
    {
     "data": {
      "text/html": [
       "<div>\n",
       "<style scoped>\n",
       "    .dataframe tbody tr th:only-of-type {\n",
       "        vertical-align: middle;\n",
       "    }\n",
       "\n",
       "    .dataframe tbody tr th {\n",
       "        vertical-align: top;\n",
       "    }\n",
       "\n",
       "    .dataframe thead th {\n",
       "        text-align: right;\n",
       "    }\n",
       "</style>\n",
       "<table border=\"1\" class=\"dataframe\">\n",
       "  <thead>\n",
       "    <tr style=\"text-align: right;\">\n",
       "      <th></th>\n",
       "      <th>Alcohol</th>\n",
       "      <th>Malic acid</th>\n",
       "      <th>Ash</th>\n",
       "      <th>Alcalinity of ash</th>\n",
       "      <th>Magnesium</th>\n",
       "      <th>Total phenols</th>\n",
       "      <th>Flavanoids</th>\n",
       "      <th>Nonflavanoid phenols</th>\n",
       "      <th>Proanthocyanins</th>\n",
       "      <th>Color intensity</th>\n",
       "      <th>Hue</th>\n",
       "      <th>OD280/OD315 of diluted wines</th>\n",
       "      <th>Proline</th>\n",
       "      <th>Class label</th>\n",
       "    </tr>\n",
       "  </thead>\n",
       "  <tbody>\n",
       "    <tr>\n",
       "      <th>0</th>\n",
       "      <td>14.23</td>\n",
       "      <td>1.71</td>\n",
       "      <td>2.43</td>\n",
       "      <td>15.6</td>\n",
       "      <td>127.0</td>\n",
       "      <td>2.80</td>\n",
       "      <td>3.06</td>\n",
       "      <td>0.28</td>\n",
       "      <td>2.29</td>\n",
       "      <td>5.64</td>\n",
       "      <td>1.04</td>\n",
       "      <td>3.92</td>\n",
       "      <td>1065.0</td>\n",
       "      <td>0</td>\n",
       "    </tr>\n",
       "    <tr>\n",
       "      <th>1</th>\n",
       "      <td>13.20</td>\n",
       "      <td>1.78</td>\n",
       "      <td>2.14</td>\n",
       "      <td>11.2</td>\n",
       "      <td>100.0</td>\n",
       "      <td>2.65</td>\n",
       "      <td>2.76</td>\n",
       "      <td>0.26</td>\n",
       "      <td>1.28</td>\n",
       "      <td>4.38</td>\n",
       "      <td>1.05</td>\n",
       "      <td>3.40</td>\n",
       "      <td>1050.0</td>\n",
       "      <td>0</td>\n",
       "    </tr>\n",
       "    <tr>\n",
       "      <th>2</th>\n",
       "      <td>13.16</td>\n",
       "      <td>2.36</td>\n",
       "      <td>2.67</td>\n",
       "      <td>18.6</td>\n",
       "      <td>101.0</td>\n",
       "      <td>2.80</td>\n",
       "      <td>3.24</td>\n",
       "      <td>0.30</td>\n",
       "      <td>2.81</td>\n",
       "      <td>5.68</td>\n",
       "      <td>1.03</td>\n",
       "      <td>3.17</td>\n",
       "      <td>1185.0</td>\n",
       "      <td>0</td>\n",
       "    </tr>\n",
       "    <tr>\n",
       "      <th>3</th>\n",
       "      <td>14.37</td>\n",
       "      <td>1.95</td>\n",
       "      <td>2.50</td>\n",
       "      <td>16.8</td>\n",
       "      <td>113.0</td>\n",
       "      <td>3.85</td>\n",
       "      <td>3.49</td>\n",
       "      <td>0.24</td>\n",
       "      <td>2.18</td>\n",
       "      <td>7.80</td>\n",
       "      <td>0.86</td>\n",
       "      <td>3.45</td>\n",
       "      <td>1480.0</td>\n",
       "      <td>0</td>\n",
       "    </tr>\n",
       "    <tr>\n",
       "      <th>4</th>\n",
       "      <td>13.24</td>\n",
       "      <td>2.59</td>\n",
       "      <td>2.87</td>\n",
       "      <td>21.0</td>\n",
       "      <td>118.0</td>\n",
       "      <td>2.80</td>\n",
       "      <td>2.69</td>\n",
       "      <td>0.39</td>\n",
       "      <td>1.82</td>\n",
       "      <td>4.32</td>\n",
       "      <td>1.04</td>\n",
       "      <td>2.93</td>\n",
       "      <td>735.0</td>\n",
       "      <td>0</td>\n",
       "    </tr>\n",
       "  </tbody>\n",
       "</table>\n",
       "</div>"
      ],
      "text/plain": [
       "   Alcohol  Malic acid   Ash  Alcalinity of ash  Magnesium  Total phenols  \\\n",
       "0    14.23        1.71  2.43               15.6      127.0           2.80   \n",
       "1    13.20        1.78  2.14               11.2      100.0           2.65   \n",
       "2    13.16        2.36  2.67               18.6      101.0           2.80   \n",
       "3    14.37        1.95  2.50               16.8      113.0           3.85   \n",
       "4    13.24        2.59  2.87               21.0      118.0           2.80   \n",
       "\n",
       "   Flavanoids  Nonflavanoid phenols  Proanthocyanins  Color intensity   Hue  \\\n",
       "0        3.06                  0.28             2.29             5.64  1.04   \n",
       "1        2.76                  0.26             1.28             4.38  1.05   \n",
       "2        3.24                  0.30             2.81             5.68  1.03   \n",
       "3        3.49                  0.24             2.18             7.80  0.86   \n",
       "4        2.69                  0.39             1.82             4.32  1.04   \n",
       "\n",
       "   OD280/OD315 of diluted wines  Proline  Class label  \n",
       "0                          3.92   1065.0            0  \n",
       "1                          3.40   1050.0            0  \n",
       "2                          3.17   1185.0            0  \n",
       "3                          3.45   1480.0            0  \n",
       "4                          2.93    735.0            0  "
      ]
     },
     "execution_count": 1,
     "metadata": {},
     "output_type": "execute_result"
    }
   ],
   "source": [
    "import pandas as pd\n",
    "import numpy as np\n",
    "from sklearn.datasets import load_wine\n",
    "\n",
    "# Load the wine dataset into a DataFrame\n",
    "df_wine = load_wine(as_frame=True)\n",
    "df_wine = df_wine.frame\n",
    "df_wine.columns = [ 'Alcohol',\n",
    "                   'Malic acid', 'Ash',\n",
    "                   'Alcalinity of ash', 'Magnesium',\n",
    "                   'Total phenols', 'Flavanoids',\n",
    "                   'Nonflavanoid phenols',\n",
    "                   'Proanthocyanins', 'Color intensity',\n",
    "                   'Hue', 'OD280/OD315 of diluted wines',\n",
    "                   'Proline', 'Class label']\n",
    "\n",
    "df_wine.head()"
   ]
  },
  {
   "cell_type": "code",
   "execution_count": 2,
   "id": "b51219dc-9d01-4137-99ba-c6ba38fdfa75",
   "metadata": {},
   "outputs": [],
   "source": [
    "from sklearn.model_selection import train_test_split \n",
    "from sklearn.preprocessing import StandardScaler\n",
    "X = df_wine.iloc[:, :-1].values \n",
    "y = df_wine.iloc[:, -1].values \n",
    "\n",
    "X_train, X_test, y_train, y_test = train_test_split(X, y, test_size=0.3, stratify=y, random_state= 1) \n",
    "\n",
    "sc = StandardScaler() \n",
    "X_train_std = sc.fit_transform(X_train) \n",
    "X_test = sc.transform(X_test)"
   ]
  },
  {
   "cell_type": "code",
   "execution_count": 3,
   "id": "0cec0824-3c5a-47fd-b22a-20986f01175c",
   "metadata": {},
   "outputs": [
    {
     "name": "stdout",
     "output_type": "stream",
     "text": [
      "Mean Value0\n",
      " : [ 0.8998 -0.36    0.301  -0.743   0.4679  0.9176  0.9809 -0.6287  0.6403\n",
      "  0.2018  0.4958  0.7642  1.1697]\n",
      "Mean Value1\n",
      " : [ 0.8998 -0.36    0.301  -0.743   0.4679  0.9176  0.9809 -0.6287  0.6403\n",
      "  0.2018  0.4958  0.7642  1.1697]\n",
      "Mean Value2\n",
      " : [-0.9191 -0.3613 -0.367   0.2926 -0.4362 -0.1187  0.0098  0.1098 -0.0235\n",
      " -0.8556  0.372   0.2343 -0.7699]\n"
     ]
    }
   ],
   "source": [
    "np.set_printoptions(precision=4) \n",
    "mean_vecs = [] \n",
    "\n",
    "for label in range(len(np.unique(y_test))): \n",
    "    mean_vecs.append(np.mean(X_train_std[y_train == label], axis=0)) \n",
    "    print(f'Mean Value{label}\\n : {mean_vecs[label-1]}')"
   ]
  },
  {
   "cell_type": "code",
   "execution_count": 4,
   "id": "14462d9b-5246-4ee7-89f5-9e2252941467",
   "metadata": {},
   "outputs": [
    {
     "name": "stdout",
     "output_type": "stream",
     "text": [
      "Within-class scatter matrix\n",
      " 13x13\n"
     ]
    }
   ],
   "source": [
    "d = 13 \n",
    "s_w = np.zeros((d, d))\n",
    "for label, mv in zip(range(len(np.unique(y_test))), mean_vecs): \n",
    "    class_scatter = np.zeros((d, d))\n",
    "    for row in X_train_std[y_train == label]: \n",
    "        row, mv = row.reshape((d, 1)), mv.reshape((d, 1)) \n",
    "        class_scatter += (row - mv).dot((row - mv).T) \n",
    "    s_w += class_scatter \n",
    "\n",
    "print('Within-class scatter matrix\\n', \n",
    "         f'{s_w.shape[0]}x{s_w.shape[1]}') \n",
    "    "
   ]
  },
  {
   "cell_type": "code",
   "execution_count": 5,
   "id": "67639f37-81bf-4a7e-af8b-003742a97e6b",
   "metadata": {},
   "outputs": [
    {
     "name": "stdout",
     "output_type": "stream",
     "text": [
      "Within-class scatter matrix\n",
      " 13x13\n",
      "Within-class scatter matrix\n",
      " 13x13\n",
      "Within-class scatter matrix\n",
      " 13x13\n"
     ]
    }
   ],
   "source": [
    "## 因为这里的数据class label 并没有正太分布 所以还是要用标准化一下，标准化的类内矩阵 其实就是协方差矩阵 \n",
    "\n",
    "d = 13 \n",
    "s_w = np.zeros((d, d)) \n",
    "for label in range(len(np.unique(y_test))): \n",
    "    class_scatter = np.cov(X_train_std[y_train == label].T) \n",
    "    s_w += class_scatter \n",
    "    print('Within-class scatter matrix\\n', \n",
    "         f'{s_w.shape[0]}x{s_w.shape[1]}') \n",
    "     \n",
    "    "
   ]
  },
  {
   "cell_type": "code",
   "execution_count": 6,
   "id": "70dbfaeb-eb40-4850-905d-f63b9d4b3e0c",
   "metadata": {},
   "outputs": [
    {
     "name": "stdout",
     "output_type": "stream",
     "text": [
      "Between-class scatter matrix: 13x13\n"
     ]
    }
   ],
   "source": [
    "d = 13 \n",
    "\n",
    "mean_overall = np.mean(X_train_std, axis = 0).reshape((d, 1)) \n",
    "s_b = np.zeros((d, d))\n",
    "for i, mean_vec in enumerate(mean_vecs):\n",
    "    n = X_train_std[y_train == i].shape[0] \n",
    "    mean_vec = mean_vec.reshape((d, 1))\n",
    "    s_b += n * (mean_vec-mean_overall).dot((mean_vec - mean_overall).T) \n",
    "\n",
    "print('Between-class scatter matrix: 'f'{s_b.shape[0]}x{s_b.shape[1]}')"
   ]
  },
  {
   "cell_type": "code",
   "execution_count": 7,
   "id": "3869b5c3-fffd-4538-b34b-28bf5f23871d",
   "metadata": {
    "scrolled": true
   },
   "outputs": [
    {
     "name": "stdout",
     "output_type": "stream",
     "text": [
      "Eigenvalues in descending order:\n",
      "\n",
      "396.21161595354465\n",
      "183.91418094236477\n",
      "8.723566897235616e-14\n",
      "4.568589387120284e-14\n",
      "2.944493986811444e-14\n",
      "2.944493986811444e-14\n",
      "2.3757602547948244e-14\n",
      "9.144294136925506e-15\n",
      "9.144294136925506e-15\n",
      "8.01479307414744e-15\n",
      "3.5351626393184005e-15\n",
      "1.7748024610438548e-15\n",
      "0.0\n"
     ]
    }
   ],
   "source": [
    "eigen_vals, eigen_vecs = np.linalg.eig(np.linalg.inv(s_w).dot(s_b))\n",
    "\n",
    "\n",
    "eigen_pairs = [(np.abs(eigen_vals[i]),eigen_vecs[:, i]) for i in range(len(eigen_vals))] \n",
    "eigen_pairs = sorted(eigen_pairs, \n",
    "                 key = lambda k:k[0], reverse = True) \n",
    "\n",
    "print('Eigenvalues in descending order:\\n') \n",
    "for  eigen_val in eigen_pairs: \n",
    "    print(eigen_val[0])"
   ]
  },
  {
   "cell_type": "code",
   "execution_count": 8,
   "id": "51adb156-5ddc-42d2-b6af-e792b690a857",
   "metadata": {
    "scrolled": true
   },
   "outputs": [
    {
     "data": {
      "image/png": "[encoded data removed]",
      "text/plain": [
       "<Figure size 640x480 with 1 Axes>"
      ]
     },
     "metadata": {},
     "output_type": "display_data"
    }
   ],
   "source": [
    "import matplotlib.pyplot as plt\n",
    "\n",
    "tot = sum(eigen_vals.real) \n",
    "discr = [(i/tot) for  i in sorted(eigen_vals.real, reverse=True)] \n",
    "cum_discr = np.cumsum(discr) \n",
    "\n",
    "plt.bar(range(1, 14), discr, label = 'individual discriminability') \n",
    "plt.step(range(1 ,14), cum_discr, label = 'Cumulative discriminability') \n",
    "plt.ylabel('Discriminability Ration') \n",
    "plt.ylim([-0.1, 1.1]) \n",
    "plt.legend() \n",
    "plt.tight_layout() \n",
    "plt.show()"
   ]
  },
  {
   "cell_type": "code",
   "execution_count": 9,
   "id": "9d67986e-144b-48bd-9c43-e1ef4d1afa83",
   "metadata": {},
   "outputs": [
    {
     "name": "stdout",
     "output_type": "stream",
     "text": [
      "Matrix W:\n",
      " [[-0.1404 -0.4202]\n",
      " [ 0.0602 -0.1217]\n",
      " [ 0.006  -0.3427]\n",
      " [ 0.2332  0.273 ]\n",
      " [-0.012  -0.0278]\n",
      " [ 0.1879 -0.0886]\n",
      " [-0.7472  0.4535]\n",
      " [-0.0916  0.1452]\n",
      " [ 0.014   0.0678]\n",
      " [ 0.286  -0.2229]\n",
      " [-0.1073  0.2107]\n",
      " [-0.3536 -0.0019]\n",
      " [-0.3188 -0.5316]]\n"
     ]
    }
   ],
   "source": [
    "w = np.hstack((eigen_pairs[0][1][:, np.newaxis].real, \n",
    "            eigen_pairs[1][1][:, np.newaxis].real)) \n",
    "print('Matrix W:\\n', w)"
   ]
  },
  {
   "cell_type": "code",
   "execution_count": 10,
   "id": "4db903df-bc1c-412a-af7d-093b58b449a1",
   "metadata": {},
   "outputs": [
    {
     "data": {
      "image/png": "[encoded data removed]",
      "text/plain": [
       "<Figure size 640x480 with 1 Axes>"
      ]
     },
     "metadata": {},
     "output_type": "display_data"
    }
   ],
   "source": [
    "X_train_lda = X_train_std.dot(w)  # 降维投影\n",
    "\n",
    "# 颜色和标记设置\n",
    "colors = ['r', 'b', 'g']\n",
    "markers = ['o', 's', '^']\n",
    "\n",
    "# 绘图循环：每个类别分别画\n",
    "for label, color, marker in zip(np.unique(y_train), colors, markers):\n",
    "    plt.scatter(X_train_lda[y_train == label, 0],        # LD 1\n",
    "                X_train_lda[y_train == label, 1] * (-1),  # LD 2 反转（可选）\n",
    "                c=color, label=f'Class {label}', marker=marker)\n",
    "\n",
    "# 图形美化\n",
    "plt.xlabel('LD 1')\n",
    "plt.ylabel('LD 2')\n",
    "plt.legend(loc='lower right')\n",
    "plt.tight_layout()\n",
    "plt.show()"
   ]
  },
  {
   "cell_type": "markdown",
   "id": "5b214226-8d6f-479d-a80e-a3b67d81945c",
   "metadata": {},
   "source": [
    "## LDA"
   ]
  },
  {
   "cell_type": "code",
   "execution_count": 11,
   "id": "09c69cac-e6d7-40d1-bf14-db650304cba7",
   "metadata": {},
   "outputs": [
    {
     "data": {
      "text/plain": [
       "1.0"
      ]
     },
     "execution_count": 11,
     "metadata": {},
     "output_type": "execute_result"
    }
   ],
   "source": [
    "from sklearn.discriminant_analysis import LinearDiscriminantAnalysis as LDA \n",
    "from sklearn.multiclass import OneVsOneClassifier \n",
    "from sklearn.linear_model import LogisticRegression \n",
    "from  sklearn.metrics import accuracy_score\n",
    "\n",
    "lda = LDA(n_components= 2) \n",
    "\n",
    "X_train_std_lda = lda.fit_transform(X_train_std, y_train) \n",
    "lr = OneVsOneClassifier(LogisticRegression(random_state= 1, solver='liblinear')) \n",
    "lr.fit(X_train_std_lda, y_train)\n",
    "lr.score(X_train_std_lda, y_train)"
   ]
  },
  {
   "cell_type": "code",
   "execution_count": 12,
   "id": "d661bd93-8cf1-4806-8121-ab3f8018c293",
   "metadata": {},
   "outputs": [
    {
     "data": {
      "text/plain": [
       "0.9629629629629629"
      ]
     },
     "execution_count": 12,
     "metadata": {},
     "output_type": "execute_result"
    }
   ],
   "source": [
    "X_test_lda = lda.transform(X_test) \n",
    "y_predict = lr.predict(X_test_lda)\n",
    "accuracy_score(y_test, y_predict)"
   ]
  },
  {
   "cell_type": "code",
   "execution_count": null,
   "id": "382cec50-fa92-454a-8561-06e26bb1bb2f",
   "metadata": {},
   "outputs": [],
   "source": []
  }
 ],
 "metadata": {
  "kernelspec": {
   "display_name": "Python 3 (ipykernel)",
   "language": "python",
   "name": "python3"
  },
  "language_info": {
   "codemirror_mode": {
    "name": "ipython",
    "version": 3
   },
   "file_extension": ".py",
   "mimetype": "text/x-python",
   "name": "python",
   "nbconvert_exporter": "python",
   "pygments_lexer": "ipython3",
   "version": "3.12.3"
  }
 },
 "nbformat": 4,
 "nbformat_minor": 5
}
